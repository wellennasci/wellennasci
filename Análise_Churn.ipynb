{
  "nbformat": 4,
  "nbformat_minor": 0,
  "metadata": {
    "colab": {
      "provenance": [],
      "authorship_tag": "ABX9TyNcR3pDkcuVjQbGciP78fdg",
      "include_colab_link": true
    },
    "kernelspec": {
      "name": "python3",
      "display_name": "Python 3"
    },
    "language_info": {
      "name": "python"
    }
  },
  "cells": [
    {
      "cell_type": "markdown",
      "metadata": {
        "id": "view-in-github",
        "colab_type": "text"
      },
      "source": [
        "<a href=\"https://colab.research.google.com/github/wellennasci/wellennasci/blob/main/An%C3%A1lise_Churn.ipynb\" target=\"_parent\"><img src=\"https://colab.research.google.com/assets/colab-badge.svg\" alt=\"Open In Colab\"/></a>"
      ]
    },
    {
      "cell_type": "markdown",
      "source": [
        "# **Análise do Churn**"
      ],
      "metadata": {
        "id": "N0chOkSrg2Oc"
      }
    },
    {
      "cell_type": "markdown",
      "source": [
        "\n",
        "#Dicionário dos dados\n",
        "\n",
        "**CustomerID (ID do Cliente):** Um identificador único atribuído a cada cliente na base de dados.\n",
        "\n",
        "**Age (Idade do Cliente):** A idade do cliente registrada no momento da análise.\n",
        "\n",
        "**Gender (Gênero):** O gênero do cliente, podendo ser masculino, feminino ou outra categoria, se aplicável.\n",
        "\n",
        "**Tenure:** O período de tempo que o cliente permaneceu como assinante ou cliente da empresa, geralmente medido em meses.\n",
        "\n",
        "**Usage (Uso):** A quantidade de uso ou consumo dos serviços ou produtos oferecidos pela empresa pelo cliente durante um determinado período de tempo.\n",
        "\n",
        "**Frequency (Frequência):** A frequência com que o cliente utiliza os serviços ou produtos da empresa durante um determinado período de tempo.\n",
        "\n",
        "**Support Calls (Chamadas de Suporte):** O número de chamadas de suporte ou assistência técnica feitas pelo cliente durante um período de tempo específico.\n",
        "\n",
        "**Payment (Pagamento):** O método de pagamento utilizado pelo cliente para pagar pelos serviços ou produtos fornecidos pela empresa.\n",
        "\n",
        "**Delay (Atraso):** Qualquer atraso no pagamento ou inadimplência do cliente em relação aos serviços ou produtos adquiridos.\n",
        "\n",
        "**Subscription Type (Tipo de Assinatura):** O tipo de assinatura ou plano de serviço escolhido pelo cliente, por exemplo, plano básico, plano premium, etc.\n",
        "\n",
        "**Contract Length (Duração do Contrato):** O período de tempo especificado pelo contrato de serviço entre a empresa e o cliente.\n",
        "\n",
        "**Total Spend (Gasto Total):** O valor total gasto pelo cliente em serviços ou produtos da empresa durante o período de tempo considerado.\n",
        "\n",
        "**Last Interaction (Última Interação):** A data da última interação registrada entre o cliente e a empresa, como uma compra, uma chamada de suporte, etc.\n",
        "\n",
        "**Churn:** Variável binária que indica se o cliente cancelou o serviço ou produto da empresa (1 para churn, 0 para não churn).\n"
      ],
      "metadata": {
        "id": "0Sv3hz2_e7as"
      }
    },
    {
      "cell_type": "code",
      "execution_count": 190,
      "metadata": {
        "id": "0OJXm0rTeFCj"
      },
      "outputs": [],
      "source": [
        "#importando as bibliotecas\n",
        "import pandas as pd\n",
        "import numpy as np\n",
        "import plotly.express as px\n",
        "import matplotlib.pyplot as plt\n",
        "import seaborn as sns\n",
        "import scipy.stats\n",
        "from scipy.stats import chi2_contingency"
      ]
    },
    {
      "cell_type": "code",
      "source": [
        "dados_churn = pd.read_csv('customer_churn_dataset-training-master.csv')"
      ],
      "metadata": {
        "id": "bTMX_XTleHt3"
      },
      "execution_count": 110,
      "outputs": []
    },
    {
      "cell_type": "markdown",
      "source": [
        "##Análise exploratória\n"
      ],
      "metadata": {
        "id": "U_ZKCRiEjtpI"
      }
    },
    {
      "cell_type": "code",
      "source": [
        "dados_churn.head()"
      ],
      "metadata": {
        "colab": {
          "base_uri": "https://localhost:8080/",
          "height": 206
        },
        "id": "osOHys5XeHwh",
        "outputId": "b74139c9-d466-4627-aa3f-c3cfea1a6a6b"
      },
      "execution_count": 111,
      "outputs": [
        {
          "output_type": "execute_result",
          "data": {
            "text/plain": [
              "   CustomerID   Age  Gender  Tenure  Usage Frequency  Support Calls  \\\n",
              "0         2.0  30.0  Female    39.0             14.0            5.0   \n",
              "1         3.0  65.0  Female    49.0              1.0           10.0   \n",
              "2         4.0  55.0  Female    14.0              4.0            6.0   \n",
              "3         5.0  58.0    Male    38.0             21.0            7.0   \n",
              "4         6.0  23.0    Male    32.0             20.0            5.0   \n",
              "\n",
              "   Payment Delay Subscription Type Contract Length  Total Spend  \\\n",
              "0           18.0          Standard          Annual        932.0   \n",
              "1            8.0             Basic         Monthly        557.0   \n",
              "2           18.0             Basic       Quarterly        185.0   \n",
              "3            7.0          Standard         Monthly        396.0   \n",
              "4            8.0             Basic         Monthly        617.0   \n",
              "\n",
              "   Last Interaction  Churn  \n",
              "0              17.0    1.0  \n",
              "1               6.0    1.0  \n",
              "2               3.0    1.0  \n",
              "3              29.0    1.0  \n",
              "4              20.0    1.0  "
            ],
            "text/html": [
              "\n",
              "  <div id=\"df-edc07b08-ff20-4cfd-a462-9786ea89e24d\" class=\"colab-df-container\">\n",
              "    <div>\n",
              "<style scoped>\n",
              "    .dataframe tbody tr th:only-of-type {\n",
              "        vertical-align: middle;\n",
              "    }\n",
              "\n",
              "    .dataframe tbody tr th {\n",
              "        vertical-align: top;\n",
              "    }\n",
              "\n",
              "    .dataframe thead th {\n",
              "        text-align: right;\n",
              "    }\n",
              "</style>\n",
              "<table border=\"1\" class=\"dataframe\">\n",
              "  <thead>\n",
              "    <tr style=\"text-align: right;\">\n",
              "      <th></th>\n",
              "      <th>CustomerID</th>\n",
              "      <th>Age</th>\n",
              "      <th>Gender</th>\n",
              "      <th>Tenure</th>\n",
              "      <th>Usage Frequency</th>\n",
              "      <th>Support Calls</th>\n",
              "      <th>Payment Delay</th>\n",
              "      <th>Subscription Type</th>\n",
              "      <th>Contract Length</th>\n",
              "      <th>Total Spend</th>\n",
              "      <th>Last Interaction</th>\n",
              "      <th>Churn</th>\n",
              "    </tr>\n",
              "  </thead>\n",
              "  <tbody>\n",
              "    <tr>\n",
              "      <th>0</th>\n",
              "      <td>2.0</td>\n",
              "      <td>30.0</td>\n",
              "      <td>Female</td>\n",
              "      <td>39.0</td>\n",
              "      <td>14.0</td>\n",
              "      <td>5.0</td>\n",
              "      <td>18.0</td>\n",
              "      <td>Standard</td>\n",
              "      <td>Annual</td>\n",
              "      <td>932.0</td>\n",
              "      <td>17.0</td>\n",
              "      <td>1.0</td>\n",
              "    </tr>\n",
              "    <tr>\n",
              "      <th>1</th>\n",
              "      <td>3.0</td>\n",
              "      <td>65.0</td>\n",
              "      <td>Female</td>\n",
              "      <td>49.0</td>\n",
              "      <td>1.0</td>\n",
              "      <td>10.0</td>\n",
              "      <td>8.0</td>\n",
              "      <td>Basic</td>\n",
              "      <td>Monthly</td>\n",
              "      <td>557.0</td>\n",
              "      <td>6.0</td>\n",
              "      <td>1.0</td>\n",
              "    </tr>\n",
              "    <tr>\n",
              "      <th>2</th>\n",
              "      <td>4.0</td>\n",
              "      <td>55.0</td>\n",
              "      <td>Female</td>\n",
              "      <td>14.0</td>\n",
              "      <td>4.0</td>\n",
              "      <td>6.0</td>\n",
              "      <td>18.0</td>\n",
              "      <td>Basic</td>\n",
              "      <td>Quarterly</td>\n",
              "      <td>185.0</td>\n",
              "      <td>3.0</td>\n",
              "      <td>1.0</td>\n",
              "    </tr>\n",
              "    <tr>\n",
              "      <th>3</th>\n",
              "      <td>5.0</td>\n",
              "      <td>58.0</td>\n",
              "      <td>Male</td>\n",
              "      <td>38.0</td>\n",
              "      <td>21.0</td>\n",
              "      <td>7.0</td>\n",
              "      <td>7.0</td>\n",
              "      <td>Standard</td>\n",
              "      <td>Monthly</td>\n",
              "      <td>396.0</td>\n",
              "      <td>29.0</td>\n",
              "      <td>1.0</td>\n",
              "    </tr>\n",
              "    <tr>\n",
              "      <th>4</th>\n",
              "      <td>6.0</td>\n",
              "      <td>23.0</td>\n",
              "      <td>Male</td>\n",
              "      <td>32.0</td>\n",
              "      <td>20.0</td>\n",
              "      <td>5.0</td>\n",
              "      <td>8.0</td>\n",
              "      <td>Basic</td>\n",
              "      <td>Monthly</td>\n",
              "      <td>617.0</td>\n",
              "      <td>20.0</td>\n",
              "      <td>1.0</td>\n",
              "    </tr>\n",
              "  </tbody>\n",
              "</table>\n",
              "</div>\n",
              "    <div class=\"colab-df-buttons\">\n",
              "\n",
              "  <div class=\"colab-df-container\">\n",
              "    <button class=\"colab-df-convert\" onclick=\"convertToInteractive('df-edc07b08-ff20-4cfd-a462-9786ea89e24d')\"\n",
              "            title=\"Convert this dataframe to an interactive table.\"\n",
              "            style=\"display:none;\">\n",
              "\n",
              "  <svg xmlns=\"http://www.w3.org/2000/svg\" height=\"24px\" viewBox=\"0 -960 960 960\">\n",
              "    <path d=\"M120-120v-720h720v720H120Zm60-500h600v-160H180v160Zm220 220h160v-160H400v160Zm0 220h160v-160H400v160ZM180-400h160v-160H180v160Zm440 0h160v-160H620v160ZM180-180h160v-160H180v160Zm440 0h160v-160H620v160Z\"/>\n",
              "  </svg>\n",
              "    </button>\n",
              "\n",
              "  <style>\n",
              "    .colab-df-container {\n",
              "      display:flex;\n",
              "      gap: 12px;\n",
              "    }\n",
              "\n",
              "    .colab-df-convert {\n",
              "      background-color: #E8F0FE;\n",
              "      border: none;\n",
              "      border-radius: 50%;\n",
              "      cursor: pointer;\n",
              "      display: none;\n",
              "      fill: #1967D2;\n",
              "      height: 32px;\n",
              "      padding: 0 0 0 0;\n",
              "      width: 32px;\n",
              "    }\n",
              "\n",
              "    .colab-df-convert:hover {\n",
              "      background-color: #E2EBFA;\n",
              "      box-shadow: 0px 1px 2px rgba(60, 64, 67, 0.3), 0px 1px 3px 1px rgba(60, 64, 67, 0.15);\n",
              "      fill: #174EA6;\n",
              "    }\n",
              "\n",
              "    .colab-df-buttons div {\n",
              "      margin-bottom: 4px;\n",
              "    }\n",
              "\n",
              "    [theme=dark] .colab-df-convert {\n",
              "      background-color: #3B4455;\n",
              "      fill: #D2E3FC;\n",
              "    }\n",
              "\n",
              "    [theme=dark] .colab-df-convert:hover {\n",
              "      background-color: #434B5C;\n",
              "      box-shadow: 0px 1px 3px 1px rgba(0, 0, 0, 0.15);\n",
              "      filter: drop-shadow(0px 1px 2px rgba(0, 0, 0, 0.3));\n",
              "      fill: #FFFFFF;\n",
              "    }\n",
              "  </style>\n",
              "\n",
              "    <script>\n",
              "      const buttonEl =\n",
              "        document.querySelector('#df-edc07b08-ff20-4cfd-a462-9786ea89e24d button.colab-df-convert');\n",
              "      buttonEl.style.display =\n",
              "        google.colab.kernel.accessAllowed ? 'block' : 'none';\n",
              "\n",
              "      async function convertToInteractive(key) {\n",
              "        const element = document.querySelector('#df-edc07b08-ff20-4cfd-a462-9786ea89e24d');\n",
              "        const dataTable =\n",
              "          await google.colab.kernel.invokeFunction('convertToInteractive',\n",
              "                                                    [key], {});\n",
              "        if (!dataTable) return;\n",
              "\n",
              "        const docLinkHtml = 'Like what you see? Visit the ' +\n",
              "          '<a target=\"_blank\" href=https://colab.research.google.com/notebooks/data_table.ipynb>data table notebook</a>'\n",
              "          + ' to learn more about interactive tables.';\n",
              "        element.innerHTML = '';\n",
              "        dataTable['output_type'] = 'display_data';\n",
              "        await google.colab.output.renderOutput(dataTable, element);\n",
              "        const docLink = document.createElement('div');\n",
              "        docLink.innerHTML = docLinkHtml;\n",
              "        element.appendChild(docLink);\n",
              "      }\n",
              "    </script>\n",
              "  </div>\n",
              "\n",
              "\n",
              "<div id=\"df-ee3fd8a5-998d-4b81-8162-20f6f184fc10\">\n",
              "  <button class=\"colab-df-quickchart\" onclick=\"quickchart('df-ee3fd8a5-998d-4b81-8162-20f6f184fc10')\"\n",
              "            title=\"Suggest charts\"\n",
              "            style=\"display:none;\">\n",
              "\n",
              "<svg xmlns=\"http://www.w3.org/2000/svg\" height=\"24px\"viewBox=\"0 0 24 24\"\n",
              "     width=\"24px\">\n",
              "    <g>\n",
              "        <path d=\"M19 3H5c-1.1 0-2 .9-2 2v14c0 1.1.9 2 2 2h14c1.1 0 2-.9 2-2V5c0-1.1-.9-2-2-2zM9 17H7v-7h2v7zm4 0h-2V7h2v10zm4 0h-2v-4h2v4z\"/>\n",
              "    </g>\n",
              "</svg>\n",
              "  </button>\n",
              "\n",
              "<style>\n",
              "  .colab-df-quickchart {\n",
              "      --bg-color: #E8F0FE;\n",
              "      --fill-color: #1967D2;\n",
              "      --hover-bg-color: #E2EBFA;\n",
              "      --hover-fill-color: #174EA6;\n",
              "      --disabled-fill-color: #AAA;\n",
              "      --disabled-bg-color: #DDD;\n",
              "  }\n",
              "\n",
              "  [theme=dark] .colab-df-quickchart {\n",
              "      --bg-color: #3B4455;\n",
              "      --fill-color: #D2E3FC;\n",
              "      --hover-bg-color: #434B5C;\n",
              "      --hover-fill-color: #FFFFFF;\n",
              "      --disabled-bg-color: #3B4455;\n",
              "      --disabled-fill-color: #666;\n",
              "  }\n",
              "\n",
              "  .colab-df-quickchart {\n",
              "    background-color: var(--bg-color);\n",
              "    border: none;\n",
              "    border-radius: 50%;\n",
              "    cursor: pointer;\n",
              "    display: none;\n",
              "    fill: var(--fill-color);\n",
              "    height: 32px;\n",
              "    padding: 0;\n",
              "    width: 32px;\n",
              "  }\n",
              "\n",
              "  .colab-df-quickchart:hover {\n",
              "    background-color: var(--hover-bg-color);\n",
              "    box-shadow: 0 1px 2px rgba(60, 64, 67, 0.3), 0 1px 3px 1px rgba(60, 64, 67, 0.15);\n",
              "    fill: var(--button-hover-fill-color);\n",
              "  }\n",
              "\n",
              "  .colab-df-quickchart-complete:disabled,\n",
              "  .colab-df-quickchart-complete:disabled:hover {\n",
              "    background-color: var(--disabled-bg-color);\n",
              "    fill: var(--disabled-fill-color);\n",
              "    box-shadow: none;\n",
              "  }\n",
              "\n",
              "  .colab-df-spinner {\n",
              "    border: 2px solid var(--fill-color);\n",
              "    border-color: transparent;\n",
              "    border-bottom-color: var(--fill-color);\n",
              "    animation:\n",
              "      spin 1s steps(1) infinite;\n",
              "  }\n",
              "\n",
              "  @keyframes spin {\n",
              "    0% {\n",
              "      border-color: transparent;\n",
              "      border-bottom-color: var(--fill-color);\n",
              "      border-left-color: var(--fill-color);\n",
              "    }\n",
              "    20% {\n",
              "      border-color: transparent;\n",
              "      border-left-color: var(--fill-color);\n",
              "      border-top-color: var(--fill-color);\n",
              "    }\n",
              "    30% {\n",
              "      border-color: transparent;\n",
              "      border-left-color: var(--fill-color);\n",
              "      border-top-color: var(--fill-color);\n",
              "      border-right-color: var(--fill-color);\n",
              "    }\n",
              "    40% {\n",
              "      border-color: transparent;\n",
              "      border-right-color: var(--fill-color);\n",
              "      border-top-color: var(--fill-color);\n",
              "    }\n",
              "    60% {\n",
              "      border-color: transparent;\n",
              "      border-right-color: var(--fill-color);\n",
              "    }\n",
              "    80% {\n",
              "      border-color: transparent;\n",
              "      border-right-color: var(--fill-color);\n",
              "      border-bottom-color: var(--fill-color);\n",
              "    }\n",
              "    90% {\n",
              "      border-color: transparent;\n",
              "      border-bottom-color: var(--fill-color);\n",
              "    }\n",
              "  }\n",
              "</style>\n",
              "\n",
              "  <script>\n",
              "    async function quickchart(key) {\n",
              "      const quickchartButtonEl =\n",
              "        document.querySelector('#' + key + ' button');\n",
              "      quickchartButtonEl.disabled = true;  // To prevent multiple clicks.\n",
              "      quickchartButtonEl.classList.add('colab-df-spinner');\n",
              "      try {\n",
              "        const charts = await google.colab.kernel.invokeFunction(\n",
              "            'suggestCharts', [key], {});\n",
              "      } catch (error) {\n",
              "        console.error('Error during call to suggestCharts:', error);\n",
              "      }\n",
              "      quickchartButtonEl.classList.remove('colab-df-spinner');\n",
              "      quickchartButtonEl.classList.add('colab-df-quickchart-complete');\n",
              "    }\n",
              "    (() => {\n",
              "      let quickchartButtonEl =\n",
              "        document.querySelector('#df-ee3fd8a5-998d-4b81-8162-20f6f184fc10 button');\n",
              "      quickchartButtonEl.style.display =\n",
              "        google.colab.kernel.accessAllowed ? 'block' : 'none';\n",
              "    })();\n",
              "  </script>\n",
              "</div>\n",
              "\n",
              "    </div>\n",
              "  </div>\n"
            ],
            "application/vnd.google.colaboratory.intrinsic+json": {
              "type": "dataframe",
              "variable_name": "dados_churn"
            }
          },
          "metadata": {},
          "execution_count": 111
        }
      ]
    },
    {
      "cell_type": "code",
      "source": [
        "dados_churn.info()"
      ],
      "metadata": {
        "colab": {
          "base_uri": "https://localhost:8080/"
        },
        "id": "tXHcSGhAhca_",
        "outputId": "597136bd-ca42-4108-c399-bf4ae324a0d1"
      },
      "execution_count": 113,
      "outputs": [
        {
          "output_type": "stream",
          "name": "stdout",
          "text": [
            "<class 'pandas.core.frame.DataFrame'>\n",
            "RangeIndex: 440833 entries, 0 to 440832\n",
            "Data columns (total 12 columns):\n",
            " #   Column             Non-Null Count   Dtype  \n",
            "---  ------             --------------   -----  \n",
            " 0   CustomerID         440832 non-null  float64\n",
            " 1   Age                440832 non-null  float64\n",
            " 2   Gender             440832 non-null  object \n",
            " 3   Tenure             440832 non-null  float64\n",
            " 4   Usage Frequency    440832 non-null  float64\n",
            " 5   Support Calls      440832 non-null  float64\n",
            " 6   Payment Delay      440832 non-null  float64\n",
            " 7   Subscription Type  440832 non-null  object \n",
            " 8   Contract Length    440832 non-null  object \n",
            " 9   Total Spend        440832 non-null  float64\n",
            " 10  Last Interaction   440832 non-null  float64\n",
            " 11  Churn              440832 non-null  float64\n",
            "dtypes: float64(9), object(3)\n",
            "memory usage: 40.4+ MB\n"
          ]
        }
      ]
    },
    {
      "cell_type": "code",
      "source": [
        "# Estatísticas descritivas das variáveis numéricas\n",
        "dados_churn.describe()"
      ],
      "metadata": {
        "colab": {
          "base_uri": "https://localhost:8080/",
          "height": 300
        },
        "id": "wJ7hC25GhhzT",
        "outputId": "e0ded96e-5f30-4ef9-bebd-1daf863cc4f5"
      },
      "execution_count": 114,
      "outputs": [
        {
          "output_type": "execute_result",
          "data": {
            "text/plain": [
              "          CustomerID            Age         Tenure  Usage Frequency  \\\n",
              "count  440832.000000  440832.000000  440832.000000    440832.000000   \n",
              "mean   225398.667955      39.373153      31.256336        15.807494   \n",
              "std    129531.918550      12.442369      17.255727         8.586242   \n",
              "min         2.000000      18.000000       1.000000         1.000000   \n",
              "25%    113621.750000      29.000000      16.000000         9.000000   \n",
              "50%    226125.500000      39.000000      32.000000        16.000000   \n",
              "75%    337739.250000      48.000000      46.000000        23.000000   \n",
              "max    449999.000000      65.000000      60.000000        30.000000   \n",
              "\n",
              "       Support Calls  Payment Delay    Total Spend  Last Interaction  \\\n",
              "count  440832.000000  440832.000000  440832.000000     440832.000000   \n",
              "mean        3.604437      12.965722     631.616223         14.480868   \n",
              "std         3.070218       8.258063     240.803001          8.596208   \n",
              "min         0.000000       0.000000     100.000000          1.000000   \n",
              "25%         1.000000       6.000000     480.000000          7.000000   \n",
              "50%         3.000000      12.000000     661.000000         14.000000   \n",
              "75%         6.000000      19.000000     830.000000         22.000000   \n",
              "max        10.000000      30.000000    1000.000000         30.000000   \n",
              "\n",
              "               Churn  \n",
              "count  440832.000000  \n",
              "mean        0.567107  \n",
              "std         0.495477  \n",
              "min         0.000000  \n",
              "25%         0.000000  \n",
              "50%         1.000000  \n",
              "75%         1.000000  \n",
              "max         1.000000  "
            ],
            "text/html": [
              "\n",
              "  <div id=\"df-11c3f485-3d3f-4831-a41f-262716fdbe07\" class=\"colab-df-container\">\n",
              "    <div>\n",
              "<style scoped>\n",
              "    .dataframe tbody tr th:only-of-type {\n",
              "        vertical-align: middle;\n",
              "    }\n",
              "\n",
              "    .dataframe tbody tr th {\n",
              "        vertical-align: top;\n",
              "    }\n",
              "\n",
              "    .dataframe thead th {\n",
              "        text-align: right;\n",
              "    }\n",
              "</style>\n",
              "<table border=\"1\" class=\"dataframe\">\n",
              "  <thead>\n",
              "    <tr style=\"text-align: right;\">\n",
              "      <th></th>\n",
              "      <th>CustomerID</th>\n",
              "      <th>Age</th>\n",
              "      <th>Tenure</th>\n",
              "      <th>Usage Frequency</th>\n",
              "      <th>Support Calls</th>\n",
              "      <th>Payment Delay</th>\n",
              "      <th>Total Spend</th>\n",
              "      <th>Last Interaction</th>\n",
              "      <th>Churn</th>\n",
              "    </tr>\n",
              "  </thead>\n",
              "  <tbody>\n",
              "    <tr>\n",
              "      <th>count</th>\n",
              "      <td>440832.000000</td>\n",
              "      <td>440832.000000</td>\n",
              "      <td>440832.000000</td>\n",
              "      <td>440832.000000</td>\n",
              "      <td>440832.000000</td>\n",
              "      <td>440832.000000</td>\n",
              "      <td>440832.000000</td>\n",
              "      <td>440832.000000</td>\n",
              "      <td>440832.000000</td>\n",
              "    </tr>\n",
              "    <tr>\n",
              "      <th>mean</th>\n",
              "      <td>225398.667955</td>\n",
              "      <td>39.373153</td>\n",
              "      <td>31.256336</td>\n",
              "      <td>15.807494</td>\n",
              "      <td>3.604437</td>\n",
              "      <td>12.965722</td>\n",
              "      <td>631.616223</td>\n",
              "      <td>14.480868</td>\n",
              "      <td>0.567107</td>\n",
              "    </tr>\n",
              "    <tr>\n",
              "      <th>std</th>\n",
              "      <td>129531.918550</td>\n",
              "      <td>12.442369</td>\n",
              "      <td>17.255727</td>\n",
              "      <td>8.586242</td>\n",
              "      <td>3.070218</td>\n",
              "      <td>8.258063</td>\n",
              "      <td>240.803001</td>\n",
              "      <td>8.596208</td>\n",
              "      <td>0.495477</td>\n",
              "    </tr>\n",
              "    <tr>\n",
              "      <th>min</th>\n",
              "      <td>2.000000</td>\n",
              "      <td>18.000000</td>\n",
              "      <td>1.000000</td>\n",
              "      <td>1.000000</td>\n",
              "      <td>0.000000</td>\n",
              "      <td>0.000000</td>\n",
              "      <td>100.000000</td>\n",
              "      <td>1.000000</td>\n",
              "      <td>0.000000</td>\n",
              "    </tr>\n",
              "    <tr>\n",
              "      <th>25%</th>\n",
              "      <td>113621.750000</td>\n",
              "      <td>29.000000</td>\n",
              "      <td>16.000000</td>\n",
              "      <td>9.000000</td>\n",
              "      <td>1.000000</td>\n",
              "      <td>6.000000</td>\n",
              "      <td>480.000000</td>\n",
              "      <td>7.000000</td>\n",
              "      <td>0.000000</td>\n",
              "    </tr>\n",
              "    <tr>\n",
              "      <th>50%</th>\n",
              "      <td>226125.500000</td>\n",
              "      <td>39.000000</td>\n",
              "      <td>32.000000</td>\n",
              "      <td>16.000000</td>\n",
              "      <td>3.000000</td>\n",
              "      <td>12.000000</td>\n",
              "      <td>661.000000</td>\n",
              "      <td>14.000000</td>\n",
              "      <td>1.000000</td>\n",
              "    </tr>\n",
              "    <tr>\n",
              "      <th>75%</th>\n",
              "      <td>337739.250000</td>\n",
              "      <td>48.000000</td>\n",
              "      <td>46.000000</td>\n",
              "      <td>23.000000</td>\n",
              "      <td>6.000000</td>\n",
              "      <td>19.000000</td>\n",
              "      <td>830.000000</td>\n",
              "      <td>22.000000</td>\n",
              "      <td>1.000000</td>\n",
              "    </tr>\n",
              "    <tr>\n",
              "      <th>max</th>\n",
              "      <td>449999.000000</td>\n",
              "      <td>65.000000</td>\n",
              "      <td>60.000000</td>\n",
              "      <td>30.000000</td>\n",
              "      <td>10.000000</td>\n",
              "      <td>30.000000</td>\n",
              "      <td>1000.000000</td>\n",
              "      <td>30.000000</td>\n",
              "      <td>1.000000</td>\n",
              "    </tr>\n",
              "  </tbody>\n",
              "</table>\n",
              "</div>\n",
              "    <div class=\"colab-df-buttons\">\n",
              "\n",
              "  <div class=\"colab-df-container\">\n",
              "    <button class=\"colab-df-convert\" onclick=\"convertToInteractive('df-11c3f485-3d3f-4831-a41f-262716fdbe07')\"\n",
              "            title=\"Convert this dataframe to an interactive table.\"\n",
              "            style=\"display:none;\">\n",
              "\n",
              "  <svg xmlns=\"http://www.w3.org/2000/svg\" height=\"24px\" viewBox=\"0 -960 960 960\">\n",
              "    <path d=\"M120-120v-720h720v720H120Zm60-500h600v-160H180v160Zm220 220h160v-160H400v160Zm0 220h160v-160H400v160ZM180-400h160v-160H180v160Zm440 0h160v-160H620v160ZM180-180h160v-160H180v160Zm440 0h160v-160H620v160Z\"/>\n",
              "  </svg>\n",
              "    </button>\n",
              "\n",
              "  <style>\n",
              "    .colab-df-container {\n",
              "      display:flex;\n",
              "      gap: 12px;\n",
              "    }\n",
              "\n",
              "    .colab-df-convert {\n",
              "      background-color: #E8F0FE;\n",
              "      border: none;\n",
              "      border-radius: 50%;\n",
              "      cursor: pointer;\n",
              "      display: none;\n",
              "      fill: #1967D2;\n",
              "      height: 32px;\n",
              "      padding: 0 0 0 0;\n",
              "      width: 32px;\n",
              "    }\n",
              "\n",
              "    .colab-df-convert:hover {\n",
              "      background-color: #E2EBFA;\n",
              "      box-shadow: 0px 1px 2px rgba(60, 64, 67, 0.3), 0px 1px 3px 1px rgba(60, 64, 67, 0.15);\n",
              "      fill: #174EA6;\n",
              "    }\n",
              "\n",
              "    .colab-df-buttons div {\n",
              "      margin-bottom: 4px;\n",
              "    }\n",
              "\n",
              "    [theme=dark] .colab-df-convert {\n",
              "      background-color: #3B4455;\n",
              "      fill: #D2E3FC;\n",
              "    }\n",
              "\n",
              "    [theme=dark] .colab-df-convert:hover {\n",
              "      background-color: #434B5C;\n",
              "      box-shadow: 0px 1px 3px 1px rgba(0, 0, 0, 0.15);\n",
              "      filter: drop-shadow(0px 1px 2px rgba(0, 0, 0, 0.3));\n",
              "      fill: #FFFFFF;\n",
              "    }\n",
              "  </style>\n",
              "\n",
              "    <script>\n",
              "      const buttonEl =\n",
              "        document.querySelector('#df-11c3f485-3d3f-4831-a41f-262716fdbe07 button.colab-df-convert');\n",
              "      buttonEl.style.display =\n",
              "        google.colab.kernel.accessAllowed ? 'block' : 'none';\n",
              "\n",
              "      async function convertToInteractive(key) {\n",
              "        const element = document.querySelector('#df-11c3f485-3d3f-4831-a41f-262716fdbe07');\n",
              "        const dataTable =\n",
              "          await google.colab.kernel.invokeFunction('convertToInteractive',\n",
              "                                                    [key], {});\n",
              "        if (!dataTable) return;\n",
              "\n",
              "        const docLinkHtml = 'Like what you see? Visit the ' +\n",
              "          '<a target=\"_blank\" href=https://colab.research.google.com/notebooks/data_table.ipynb>data table notebook</a>'\n",
              "          + ' to learn more about interactive tables.';\n",
              "        element.innerHTML = '';\n",
              "        dataTable['output_type'] = 'display_data';\n",
              "        await google.colab.output.renderOutput(dataTable, element);\n",
              "        const docLink = document.createElement('div');\n",
              "        docLink.innerHTML = docLinkHtml;\n",
              "        element.appendChild(docLink);\n",
              "      }\n",
              "    </script>\n",
              "  </div>\n",
              "\n",
              "\n",
              "<div id=\"df-fc26b259-e109-4624-bdf0-c2e5514ed0dd\">\n",
              "  <button class=\"colab-df-quickchart\" onclick=\"quickchart('df-fc26b259-e109-4624-bdf0-c2e5514ed0dd')\"\n",
              "            title=\"Suggest charts\"\n",
              "            style=\"display:none;\">\n",
              "\n",
              "<svg xmlns=\"http://www.w3.org/2000/svg\" height=\"24px\"viewBox=\"0 0 24 24\"\n",
              "     width=\"24px\">\n",
              "    <g>\n",
              "        <path d=\"M19 3H5c-1.1 0-2 .9-2 2v14c0 1.1.9 2 2 2h14c1.1 0 2-.9 2-2V5c0-1.1-.9-2-2-2zM9 17H7v-7h2v7zm4 0h-2V7h2v10zm4 0h-2v-4h2v4z\"/>\n",
              "    </g>\n",
              "</svg>\n",
              "  </button>\n",
              "\n",
              "<style>\n",
              "  .colab-df-quickchart {\n",
              "      --bg-color: #E8F0FE;\n",
              "      --fill-color: #1967D2;\n",
              "      --hover-bg-color: #E2EBFA;\n",
              "      --hover-fill-color: #174EA6;\n",
              "      --disabled-fill-color: #AAA;\n",
              "      --disabled-bg-color: #DDD;\n",
              "  }\n",
              "\n",
              "  [theme=dark] .colab-df-quickchart {\n",
              "      --bg-color: #3B4455;\n",
              "      --fill-color: #D2E3FC;\n",
              "      --hover-bg-color: #434B5C;\n",
              "      --hover-fill-color: #FFFFFF;\n",
              "      --disabled-bg-color: #3B4455;\n",
              "      --disabled-fill-color: #666;\n",
              "  }\n",
              "\n",
              "  .colab-df-quickchart {\n",
              "    background-color: var(--bg-color);\n",
              "    border: none;\n",
              "    border-radius: 50%;\n",
              "    cursor: pointer;\n",
              "    display: none;\n",
              "    fill: var(--fill-color);\n",
              "    height: 32px;\n",
              "    padding: 0;\n",
              "    width: 32px;\n",
              "  }\n",
              "\n",
              "  .colab-df-quickchart:hover {\n",
              "    background-color: var(--hover-bg-color);\n",
              "    box-shadow: 0 1px 2px rgba(60, 64, 67, 0.3), 0 1px 3px 1px rgba(60, 64, 67, 0.15);\n",
              "    fill: var(--button-hover-fill-color);\n",
              "  }\n",
              "\n",
              "  .colab-df-quickchart-complete:disabled,\n",
              "  .colab-df-quickchart-complete:disabled:hover {\n",
              "    background-color: var(--disabled-bg-color);\n",
              "    fill: var(--disabled-fill-color);\n",
              "    box-shadow: none;\n",
              "  }\n",
              "\n",
              "  .colab-df-spinner {\n",
              "    border: 2px solid var(--fill-color);\n",
              "    border-color: transparent;\n",
              "    border-bottom-color: var(--fill-color);\n",
              "    animation:\n",
              "      spin 1s steps(1) infinite;\n",
              "  }\n",
              "\n",
              "  @keyframes spin {\n",
              "    0% {\n",
              "      border-color: transparent;\n",
              "      border-bottom-color: var(--fill-color);\n",
              "      border-left-color: var(--fill-color);\n",
              "    }\n",
              "    20% {\n",
              "      border-color: transparent;\n",
              "      border-left-color: var(--fill-color);\n",
              "      border-top-color: var(--fill-color);\n",
              "    }\n",
              "    30% {\n",
              "      border-color: transparent;\n",
              "      border-left-color: var(--fill-color);\n",
              "      border-top-color: var(--fill-color);\n",
              "      border-right-color: var(--fill-color);\n",
              "    }\n",
              "    40% {\n",
              "      border-color: transparent;\n",
              "      border-right-color: var(--fill-color);\n",
              "      border-top-color: var(--fill-color);\n",
              "    }\n",
              "    60% {\n",
              "      border-color: transparent;\n",
              "      border-right-color: var(--fill-color);\n",
              "    }\n",
              "    80% {\n",
              "      border-color: transparent;\n",
              "      border-right-color: var(--fill-color);\n",
              "      border-bottom-color: var(--fill-color);\n",
              "    }\n",
              "    90% {\n",
              "      border-color: transparent;\n",
              "      border-bottom-color: var(--fill-color);\n",
              "    }\n",
              "  }\n",
              "</style>\n",
              "\n",
              "  <script>\n",
              "    async function quickchart(key) {\n",
              "      const quickchartButtonEl =\n",
              "        document.querySelector('#' + key + ' button');\n",
              "      quickchartButtonEl.disabled = true;  // To prevent multiple clicks.\n",
              "      quickchartButtonEl.classList.add('colab-df-spinner');\n",
              "      try {\n",
              "        const charts = await google.colab.kernel.invokeFunction(\n",
              "            'suggestCharts', [key], {});\n",
              "      } catch (error) {\n",
              "        console.error('Error during call to suggestCharts:', error);\n",
              "      }\n",
              "      quickchartButtonEl.classList.remove('colab-df-spinner');\n",
              "      quickchartButtonEl.classList.add('colab-df-quickchart-complete');\n",
              "    }\n",
              "    (() => {\n",
              "      let quickchartButtonEl =\n",
              "        document.querySelector('#df-fc26b259-e109-4624-bdf0-c2e5514ed0dd button');\n",
              "      quickchartButtonEl.style.display =\n",
              "        google.colab.kernel.accessAllowed ? 'block' : 'none';\n",
              "    })();\n",
              "  </script>\n",
              "</div>\n",
              "\n",
              "    </div>\n",
              "  </div>\n"
            ],
            "application/vnd.google.colaboratory.intrinsic+json": {
              "type": "dataframe",
              "summary": "{\n  \"name\": \"dados_churn\",\n  \"rows\": 8,\n  \"fields\": [\n    {\n      \"column\": \"CustomerID\",\n      \"properties\": {\n        \"dtype\": \"number\",\n        \"std\": 160429.83004457437,\n        \"min\": 2.0,\n        \"max\": 449999.0,\n        \"num_unique_values\": 8,\n        \"samples\": [\n          225398.66795513936,\n          226125.5,\n          440832.0\n        ],\n        \"semantic_type\": \"\",\n        \"description\": \"\"\n      }\n    },\n    {\n      \"column\": \"Age\",\n      \"properties\": {\n        \"dtype\": \"number\",\n        \"std\": 155844.98107109405,\n        \"min\": 12.442369490866625,\n        \"max\": 440832.0,\n        \"num_unique_values\": 8,\n        \"samples\": [\n          39.37315349157956,\n          39.0,\n          440832.0\n        ],\n        \"semantic_type\": \"\",\n        \"description\": \"\"\n      }\n    },\n    {\n      \"column\": \"Tenure\",\n      \"properties\": {\n        \"dtype\": \"number\",\n        \"std\": 155847.37044993733,\n        \"min\": 1.0,\n        \"max\": 440832.0,\n        \"num_unique_values\": 8,\n        \"samples\": [\n          31.25633574695122,\n          32.0,\n          440832.0\n        ],\n        \"semantic_type\": \"\",\n        \"description\": \"\"\n      }\n    },\n    {\n      \"column\": \"Usage Frequency\",\n      \"properties\": {\n        \"dtype\": \"number\",\n        \"std\": 155852.4263679991,\n        \"min\": 1.0,\n        \"max\": 440832.0,\n        \"num_unique_values\": 8,\n        \"samples\": [\n          15.80749355763647,\n          16.0,\n          440832.0\n        ],\n        \"semantic_type\": \"\",\n        \"description\": \"\"\n      }\n    },\n    {\n      \"column\": \"Support Calls\",\n      \"properties\": {\n        \"dtype\": \"number\",\n        \"std\": 155856.30103910927,\n        \"min\": 0.0,\n        \"max\": 440832.0,\n        \"num_unique_values\": 8,\n        \"samples\": [\n          3.6044366107723578,\n          3.0,\n          440832.0\n        ],\n        \"semantic_type\": \"\",\n        \"description\": \"\"\n      }\n    },\n    {\n      \"column\": \"Payment Delay\",\n      \"properties\": {\n        \"dtype\": \"number\",\n        \"std\": 155853.19256713171,\n        \"min\": 0.0,\n        \"max\": 440832.0,\n        \"num_unique_values\": 8,\n        \"samples\": [\n          12.965721635452962,\n          12.0,\n          440832.0\n        ],\n        \"semantic_type\": \"\",\n        \"description\": \"\"\n      }\n    },\n    {\n      \"column\": \"Total Spend\",\n      \"properties\": {\n        \"dtype\": \"number\",\n        \"std\": 155658.75161340856,\n        \"min\": 100.0,\n        \"max\": 440832.0,\n        \"num_unique_values\": 8,\n        \"samples\": [\n          631.6162227787456,\n          661.0,\n          440832.0\n        ],\n        \"semantic_type\": \"\",\n        \"description\": \"\"\n      }\n    },\n    {\n      \"column\": \"Last Interaction\",\n      \"properties\": {\n        \"dtype\": \"number\",\n        \"std\": 155852.74540926635,\n        \"min\": 1.0,\n        \"max\": 440832.0,\n        \"num_unique_values\": 8,\n        \"samples\": [\n          14.480867995063878,\n          14.0,\n          440832.0\n        ],\n        \"semantic_type\": \"\",\n        \"description\": \"\"\n      }\n    },\n    {\n      \"column\": \"Churn\",\n      \"properties\": {\n        \"dtype\": \"number\",\n        \"std\": 155857.44309109414,\n        \"min\": 0.0,\n        \"max\": 440832.0,\n        \"num_unique_values\": 5,\n        \"samples\": [\n          0.5671071972996515,\n          1.0,\n          0.495476720911978\n        ],\n        \"semantic_type\": \"\",\n        \"description\": \"\"\n      }\n    }\n  ]\n}"
            }
          },
          "metadata": {},
          "execution_count": 114
        }
      ]
    },
    {
      "cell_type": "code",
      "source": [
        "\n",
        "# Contagem de valores únicos para variáveis categóricas(aquelas que representam características qualitativas)\n",
        "dados_churn['Contract Length'].value_counts()"
      ],
      "metadata": {
        "colab": {
          "base_uri": "https://localhost:8080/"
        },
        "id": "Qmce8-XteHza",
        "outputId": "d7dd122d-4f71-478c-fe0d-2b87f12f4be5"
      },
      "execution_count": 115,
      "outputs": [
        {
          "output_type": "execute_result",
          "data": {
            "text/plain": [
              "Annual       177198\n",
              "Quarterly    176530\n",
              "Monthly       87104\n",
              "Name: Contract Length, dtype: int64"
            ]
          },
          "metadata": {},
          "execution_count": 115
        }
      ]
    },
    {
      "cell_type": "code",
      "source": [
        "dados_churn['Gender'].value_counts()"
      ],
      "metadata": {
        "colab": {
          "base_uri": "https://localhost:8080/"
        },
        "id": "0cJxZE93h-l0",
        "outputId": "396f2bbc-8d4c-411a-8b09-abf91808bf66"
      },
      "execution_count": 116,
      "outputs": [
        {
          "output_type": "execute_result",
          "data": {
            "text/plain": [
              "Male      250252\n",
              "Female    190580\n",
              "Name: Gender, dtype: int64"
            ]
          },
          "metadata": {},
          "execution_count": 116
        }
      ]
    },
    {
      "cell_type": "code",
      "source": [
        "dados_churn['Subscription Type'].value_counts()"
      ],
      "metadata": {
        "colab": {
          "base_uri": "https://localhost:8080/"
        },
        "id": "Zoem4mzsh-s1",
        "outputId": "a640a0b4-6a2d-4722-b1d9-7ff61772f3de"
      },
      "execution_count": 117,
      "outputs": [
        {
          "output_type": "execute_result",
          "data": {
            "text/plain": [
              "Standard    149128\n",
              "Premium     148678\n",
              "Basic       143026\n",
              "Name: Subscription Type, dtype: int64"
            ]
          },
          "metadata": {},
          "execution_count": 117
        }
      ]
    },
    {
      "cell_type": "code",
      "source": [
        "# Verificação de valores nulos\n",
        "print(dados_churn.isnull().sum())"
      ],
      "metadata": {
        "colab": {
          "base_uri": "https://localhost:8080/"
        },
        "id": "YRE7HPOVeH1y",
        "outputId": "8641bc7d-7cb9-4d0d-935b-9c93ce808743"
      },
      "execution_count": 118,
      "outputs": [
        {
          "output_type": "stream",
          "name": "stdout",
          "text": [
            "CustomerID           1\n",
            "Age                  1\n",
            "Gender               1\n",
            "Tenure               1\n",
            "Usage Frequency      1\n",
            "Support Calls        1\n",
            "Payment Delay        1\n",
            "Subscription Type    1\n",
            "Contract Length      1\n",
            "Total Spend          1\n",
            "Last Interaction     1\n",
            "Churn                1\n",
            "dtype: int64\n"
          ]
        }
      ]
    },
    {
      "cell_type": "markdown",
      "source": [
        "##Limpeza dos dados"
      ],
      "metadata": {
        "id": "LNK2fb36j5ek"
      }
    },
    {
      "cell_type": "code",
      "source": [
        "\n",
        "dados_churn = dados_churn.dropna()\n"
      ],
      "metadata": {
        "id": "LgXWHX-1eH67"
      },
      "execution_count": 216,
      "outputs": []
    },
    {
      "cell_type": "code",
      "source": [
        "# Correção do valor 'Monthl' para 'Monthly'\n",
        "dados_churn['Contract Length'] = dados_churn['Contract Length'].replace('Monthl', 'Monthly')"
      ],
      "metadata": {
        "colab": {
          "base_uri": "https://localhost:8080/"
        },
        "id": "MjQoEbQ8kCuz",
        "outputId": "546024bc-b17a-490d-d899-5d5ec0f33ec4"
      },
      "execution_count": 120,
      "outputs": [
        {
          "output_type": "stream",
          "name": "stderr",
          "text": [
            "<ipython-input-120-80c05ea0eb96>:2: SettingWithCopyWarning: \n",
            "A value is trying to be set on a copy of a slice from a DataFrame.\n",
            "Try using .loc[row_indexer,col_indexer] = value instead\n",
            "\n",
            "See the caveats in the documentation: https://pandas.pydata.org/pandas-docs/stable/user_guide/indexing.html#returning-a-view-versus-a-copy\n",
            "  dados_churn['Contract Length'] = dados_churn['Contract Length'].replace('Monthl', 'Monthly')\n"
          ]
        }
      ]
    },
    {
      "cell_type": "code",
      "source": [
        "dados_churn['Contract Length'].value_counts()"
      ],
      "metadata": {
        "colab": {
          "base_uri": "https://localhost:8080/"
        },
        "id": "Bcu5bLsKkCxs",
        "outputId": "60603aeb-cb26-4189-9861-d543a8f35305"
      },
      "execution_count": 121,
      "outputs": [
        {
          "output_type": "execute_result",
          "data": {
            "text/plain": [
              "Annual       177198\n",
              "Quarterly    176530\n",
              "Monthly       87104\n",
              "Name: Contract Length, dtype: int64"
            ]
          },
          "metadata": {},
          "execution_count": 121
        }
      ]
    },
    {
      "cell_type": "code",
      "source": [
        "# Padronização da coluna 'Gender'\n",
        "# nota: o capitalize coloca o primeiro caractere convertido para maiúsculo e todos os outros caracteres convertidos para minúsculo\n",
        "dados_churn['Gender'] = dados_churn['Gender'].str.capitalize()\n",
        "\n",
        "# Padronização da coluna 'Subscription Type'\n",
        "dados_churn['Subscription Type'] = dados_churn['Subscription Type'].str.capitalize()\n"
      ],
      "metadata": {
        "colab": {
          "base_uri": "https://localhost:8080/"
        },
        "id": "zj9rKu6AkY6V",
        "outputId": "b72c6b2e-3400-474c-a35f-ccf479957d4a"
      },
      "execution_count": 122,
      "outputs": [
        {
          "output_type": "stream",
          "name": "stderr",
          "text": [
            "<ipython-input-122-92692dec12b3>:3: SettingWithCopyWarning: \n",
            "A value is trying to be set on a copy of a slice from a DataFrame.\n",
            "Try using .loc[row_indexer,col_indexer] = value instead\n",
            "\n",
            "See the caveats in the documentation: https://pandas.pydata.org/pandas-docs/stable/user_guide/indexing.html#returning-a-view-versus-a-copy\n",
            "  dados_churn['Gender'] = dados_churn['Gender'].str.capitalize()\n",
            "<ipython-input-122-92692dec12b3>:6: SettingWithCopyWarning: \n",
            "A value is trying to be set on a copy of a slice from a DataFrame.\n",
            "Try using .loc[row_indexer,col_indexer] = value instead\n",
            "\n",
            "See the caveats in the documentation: https://pandas.pydata.org/pandas-docs/stable/user_guide/indexing.html#returning-a-view-versus-a-copy\n",
            "  dados_churn['Subscription Type'] = dados_churn['Subscription Type'].str.capitalize()\n"
          ]
        }
      ]
    },
    {
      "cell_type": "code",
      "source": [
        "dados_churn.info()"
      ],
      "metadata": {
        "colab": {
          "base_uri": "https://localhost:8080/"
        },
        "id": "iWTKRVw7khZR",
        "outputId": "c5591d4c-4413-4851-bcf8-1fcc0f71615c"
      },
      "execution_count": 123,
      "outputs": [
        {
          "output_type": "stream",
          "name": "stdout",
          "text": [
            "<class 'pandas.core.frame.DataFrame'>\n",
            "Int64Index: 440832 entries, 0 to 440832\n",
            "Data columns (total 12 columns):\n",
            " #   Column             Non-Null Count   Dtype  \n",
            "---  ------             --------------   -----  \n",
            " 0   CustomerID         440832 non-null  float64\n",
            " 1   Age                440832 non-null  float64\n",
            " 2   Gender             440832 non-null  object \n",
            " 3   Tenure             440832 non-null  float64\n",
            " 4   Usage Frequency    440832 non-null  float64\n",
            " 5   Support Calls      440832 non-null  float64\n",
            " 6   Payment Delay      440832 non-null  float64\n",
            " 7   Subscription Type  440832 non-null  object \n",
            " 8   Contract Length    440832 non-null  object \n",
            " 9   Total Spend        440832 non-null  float64\n",
            " 10  Last Interaction   440832 non-null  float64\n",
            " 11  Churn              440832 non-null  float64\n",
            "dtypes: float64(9), object(3)\n",
            "memory usage: 43.7+ MB\n"
          ]
        }
      ]
    },
    {
      "cell_type": "code",
      "source": [
        "# Convertendo as colunas 'Gender' e 'Subscription Type' para o tipo categoria\n",
        "dados_churn['Gender'] = dados_churn['Gender'].astype('category')\n",
        "dados_churn['Subscription Type'] = dados_churn['Subscription Type'].astype('category')"
      ],
      "metadata": {
        "colab": {
          "base_uri": "https://localhost:8080/"
        },
        "id": "E06qHyqzkhbp",
        "outputId": "c9860911-87d9-46f9-b9e7-baf5cd758788"
      },
      "execution_count": 124,
      "outputs": [
        {
          "output_type": "stream",
          "name": "stderr",
          "text": [
            "<ipython-input-124-4c15aac2b370>:2: SettingWithCopyWarning: \n",
            "A value is trying to be set on a copy of a slice from a DataFrame.\n",
            "Try using .loc[row_indexer,col_indexer] = value instead\n",
            "\n",
            "See the caveats in the documentation: https://pandas.pydata.org/pandas-docs/stable/user_guide/indexing.html#returning-a-view-versus-a-copy\n",
            "  dados_churn['Gender'] = dados_churn['Gender'].astype('category')\n",
            "<ipython-input-124-4c15aac2b370>:3: SettingWithCopyWarning: \n",
            "A value is trying to be set on a copy of a slice from a DataFrame.\n",
            "Try using .loc[row_indexer,col_indexer] = value instead\n",
            "\n",
            "See the caveats in the documentation: https://pandas.pydata.org/pandas-docs/stable/user_guide/indexing.html#returning-a-view-versus-a-copy\n",
            "  dados_churn['Subscription Type'] = dados_churn['Subscription Type'].astype('category')\n"
          ]
        }
      ]
    },
    {
      "cell_type": "code",
      "source": [
        "dados_churn.info()"
      ],
      "metadata": {
        "colab": {
          "base_uri": "https://localhost:8080/"
        },
        "id": "5L9Y0jzskheR",
        "outputId": "25d30d92-f338-429b-8185-43aa73e130cd"
      },
      "execution_count": 125,
      "outputs": [
        {
          "output_type": "stream",
          "name": "stdout",
          "text": [
            "<class 'pandas.core.frame.DataFrame'>\n",
            "Int64Index: 440832 entries, 0 to 440832\n",
            "Data columns (total 12 columns):\n",
            " #   Column             Non-Null Count   Dtype   \n",
            "---  ------             --------------   -----   \n",
            " 0   CustomerID         440832 non-null  float64 \n",
            " 1   Age                440832 non-null  float64 \n",
            " 2   Gender             440832 non-null  category\n",
            " 3   Tenure             440832 non-null  float64 \n",
            " 4   Usage Frequency    440832 non-null  float64 \n",
            " 5   Support Calls      440832 non-null  float64 \n",
            " 6   Payment Delay      440832 non-null  float64 \n",
            " 7   Subscription Type  440832 non-null  category\n",
            " 8   Contract Length    440832 non-null  object  \n",
            " 9   Total Spend        440832 non-null  float64 \n",
            " 10  Last Interaction   440832 non-null  float64 \n",
            " 11  Churn              440832 non-null  float64 \n",
            "dtypes: category(2), float64(9), object(1)\n",
            "memory usage: 37.8+ MB\n"
          ]
        }
      ]
    },
    {
      "cell_type": "markdown",
      "source": [
        "##Análise Descritiva"
      ],
      "metadata": {
        "id": "ftqc_FJnlc03"
      }
    },
    {
      "cell_type": "code",
      "source": [
        "# Histograma da idade dos clientes com esquema de cores escuro\n",
        "plt.figure(figsize=(8, 6))\n",
        "sns.histplot(data=dados_churn, x='Age', bins=30, kde=False, color='#275D8C')\n",
        "plt.title('Distribuição da Idade dos Clientes')\n",
        "plt.xlabel('Idade')\n",
        "plt.ylabel('Frequência')\n",
        "plt.show()\n"
      ],
      "metadata": {
        "colab": {
          "base_uri": "https://localhost:8080/",
          "height": 564
        },
        "id": "k5pRlqdImrjR",
        "outputId": "4dc3b206-9412-4374-ea1d-f389424c6985"
      },
      "execution_count": 213,
      "outputs": [
        {
          "output_type": "display_data",
          "data": {
            "text/plain": [
              "<Figure size 800x600 with 1 Axes>"
            ],
            "image/png": "[encoded data removed]"
          },
          "metadata": {}
        }
      ]
    },
    {
      "cell_type": "code",
      "source": [
        "# Matriz de correlação\n",
        "correlation_matrix = dados_churn.corr()\n",
        "\n",
        "# Mapa de calor da matriz de correlação\n",
        "plt.figure(figsize=(10, 8))\n",
        "sns.heatmap(correlation_matrix, annot=True, cmap='Blues', fmt=\".2f\")\n",
        "plt.title('Matriz de Correlação')\n",
        "plt.show()"
      ],
      "metadata": {
        "colab": {
          "base_uri": "https://localhost:8080/",
          "height": 839
        },
        "id": "IKUiUC652JJy",
        "outputId": "12754bd7-8cd2-43e6-eb39-acb2f26d6542"
      },
      "execution_count": 208,
      "outputs": [
        {
          "output_type": "stream",
          "name": "stderr",
          "text": [
            "<ipython-input-208-122d03eaef1e>:2: FutureWarning: The default value of numeric_only in DataFrame.corr is deprecated. In a future version, it will default to False. Select only valid columns or specify the value of numeric_only to silence this warning.\n",
            "  correlation_matrix = dados_churn.corr()\n"
          ]
        },
        {
          "output_type": "display_data",
          "data": {
            "text/plain": [
              "<Figure size 1000x800 with 2 Axes>"
            ],
            "image/png": "[encoded data removed]"
          },
          "metadata": {}
        }
      ]
    },
    {
      "cell_type": "code",
      "source": [
        "# Gráfico de contagem para variável 'Gender'\n",
        "plt.figure(figsize=(8, 6))\n",
        "sns.countplot(data=dados_churn, x='Gender', linewidth=0.2)\n",
        "plt.title('Contagem de Gênero')\n",
        "plt.xlabel('Gênero')\n",
        "plt.ylabel('Contagem')\n",
        "plt.show()\n",
        "\n"
      ],
      "metadata": {
        "colab": {
          "base_uri": "https://localhost:8080/",
          "height": 565
        },
        "id": "oGLMZoEKnGmo",
        "outputId": "58f54f17-c487-43a2-a138-bc8e743a62c0"
      },
      "execution_count": 215,
      "outputs": [
        {
          "output_type": "display_data",
          "data": {
            "text/plain": [
              "<Figure size 800x600 with 1 Axes>"
            ],
            "image/png": "[encoded data removed]"
          },
          "metadata": {}
        }
      ]
    },
    {
      "cell_type": "code",
      "source": [
        "# Taxa de churn global\n",
        "churn_rate = dados_churn['Churn'].mean() * 100\n",
        "print(f'Taxa de Churn Global: {churn_rate:.2f}%')\n",
        "\n",
        "# Análise de churn por gênero\n",
        "plt.figure(figsize=(8, 6))\n",
        "sns.countplot(data=dados_churn, x='Gender', hue='Churn')\n",
        "plt.title('Churn por Gênero')\n",
        "plt.xlabel('Gênero')\n",
        "plt.ylabel('Contagem')\n",
        "plt.legend(title='Churn', labels=['Não Churn', 'Churn'])\n",
        "plt.show()\n"
      ],
      "metadata": {
        "colab": {
          "base_uri": "https://localhost:8080/",
          "height": 582
        },
        "id": "20b631osnGpS",
        "outputId": "69fa35c9-ddb6-44a7-b674-4c261d91a130"
      },
      "execution_count": 129,
      "outputs": [
        {
          "output_type": "stream",
          "name": "stdout",
          "text": [
            "Taxa de Churn Global: 56.71%\n"
          ]
        },
        {
          "output_type": "display_data",
          "data": {
            "text/plain": [
              "<Figure size 800x600 with 1 Axes>"
            ],
            "image/png": "[encoded data removed]"
          },
          "metadata": {}
        }
      ]
    },
    {
      "cell_type": "markdown",
      "source": [
        "#Questões de Análise\n",
        "Aqui estão algumas perguntas que busquei responder durante esta análise."
      ],
      "metadata": {
        "id": "-nlWOOs3KOmQ"
      }
    },
    {
      "cell_type": "markdown",
      "source": [
        "\n",
        "#**1.** Qual é a distribuição etária dos clientes? Há alguma faixa etária predominante?"
      ],
      "metadata": {
        "id": "Ja_IqaJeK2zX"
      }
    },
    {
      "cell_type": "code",
      "source": [
        "plt.figure(figsize=(10, 6))\n",
        "sns.histplot(data=dados_churn, x='Age', bins=30, kde=False, color='#0089BA')\n",
        "plt.title('Distribuição Etária dos Clientes')\n",
        "plt.xlabel('Idade')\n",
        "plt.ylabel('Quantidade')\n",
        "plt.grid(False)\n",
        "plt.show()\n"
      ],
      "metadata": {
        "colab": {
          "base_uri": "https://localhost:8080/",
          "height": 565
        },
        "id": "lN8A63IZKz7N",
        "outputId": "ef7a72a4-9221-4041-8480-1292574d5fe3"
      },
      "execution_count": 130,
      "outputs": [
        {
          "output_type": "display_data",
          "data": {
            "text/plain": [
              "<Figure size 1000x600 with 1 Axes>"
            ],
            "image/png": "[encoded data removed]"
          },
          "metadata": {}
        }
      ]
    },
    {
      "cell_type": "code",
      "source": [
        "media_idade = dados_churn['Age'].mean()\n",
        "mediana_idade = dados_churn['Age'].median()\n",
        "moda_idade = dados_churn['Age'].mode()[0]\n",
        "desvio_padrao_idade = dados_churn['Age'].std()\n",
        "\n",
        "print(f'Média de idade: {media_idade:.2f} anos')\n",
        "print(f'Mediana de idade: {mediana_idade} anos')\n",
        "print(f'Faixa etária predominante: {moda_idade} anos')\n",
        "print(f'Desvio padrão de idade: {desvio_padrao_idade:.2f} anos')"
      ],
      "metadata": {
        "id": "5Oay0uaanGr4",
        "colab": {
          "base_uri": "https://localhost:8080/"
        },
        "outputId": "7fc4dae5-8b71-4d75-8725-1cfe3ed69ff3"
      },
      "execution_count": 131,
      "outputs": [
        {
          "output_type": "stream",
          "name": "stdout",
          "text": [
            "Média de idade: 39.37 anos\n",
            "Mediana de idade: 39.0 anos\n",
            "Faixa etária predominante: 50.0 anos\n",
            "Desvio padrão de idade: 12.44 anos\n"
          ]
        }
      ]
    },
    {
      "cell_type": "markdown",
      "source": [
        "## Distribuição Etária dos Clientes\n",
        "\n",
        "Ao analisar a distribuição etária dos clientes, observamos que tanto a média quanto a mediana de idade estão em torno de 39 anos. No entanto, a faixa etária predominante dos clientes, determinada pela moda da distribuição de idade, é de 50 anos. Além disso, o desvio padrão da idade dos clientes é de aproximadamente 12, sugerindo uma dispersão moderada em relação à idade média.\n",
        "\n",
        "Esses resultados indicam que a maioria dos clientes está concentrada em torno da faixa etária de 50 anos, embora haja uma dispersão razoável em relação a essa idade média. Essas informações podem ser úteis para direcionar estratégias de marketing, desenvolvimento de produtos e serviços voltados para diferentes faixas etárias dentro da base de clientes.\n"
      ],
      "metadata": {
        "id": "3B0wbXgxNtTQ"
      }
    },
    {
      "cell_type": "markdown",
      "source": [
        "\n",
        "#**2.** Qual é a distribuição de gênero dos clientes? Existem diferenças significativas entre homens e mulheres?"
      ],
      "metadata": {
        "id": "xIGLCs2pOtCO"
      }
    },
    {
      "cell_type": "code",
      "source": [
        "# Calculando a contagem de clientes para cada categoria de gênero\n",
        "contagem_genero = dados_churn['Gender'].value_counts()\n",
        "\n",
        "# Definindo as cores\n",
        "cores = ['#FF9671', '#0089BA']\n",
        "\n",
        "# Visualização da distribuição de gênero\n",
        "plt.figure(figsize=(8, 6))\n",
        "sns.barplot(x=contagem_genero.index, y=contagem_genero.values, hue=contagem_genero.index, palette=cores, dodge=False)\n",
        "plt.title('Distribuição de Gênero dos Clientes')\n",
        "plt.xlabel('Gênero')\n",
        "plt.ylabel('Contagem')\n",
        "plt.show()\n"
      ],
      "metadata": {
        "colab": {
          "base_uri": "https://localhost:8080/",
          "height": 565
        },
        "id": "ycpAANrAOut8",
        "outputId": "c15d1a67-0086-461e-ebd5-91305f25662a"
      },
      "execution_count": 132,
      "outputs": [
        {
          "output_type": "display_data",
          "data": {
            "text/plain": [
              "<Figure size 800x600 with 1 Axes>"
            ],
            "image/png": "[encoded data removed]"
          },
          "metadata": {}
        }
      ]
    },
    {
      "cell_type": "code",
      "source": [
        "# Analisando se existem diferenças significativas entre homens e mulheres\n",
        "diferenca_genero = contagem_genero['Male'] - contagem_genero['Female']\n",
        "if diferenca_genero > 0:\n",
        "    print(f\"Há {diferenca_genero} mais homens do que mulheres na base de clientes.\")\n",
        "elif diferenca_genero < 0:\n",
        "    print(f\"Há {abs(diferenca_genero)} mais mulheres do que homens na base de clientes.\")\n",
        "else:\n",
        "    print(\"Não há diferenças significativas entre homens e mulheres na base de clientes.\")"
      ],
      "metadata": {
        "colab": {
          "base_uri": "https://localhost:8080/"
        },
        "id": "iYYPHrwnO3BN",
        "outputId": "8c48edfb-e3bf-425a-fc5c-36860f7bcd26"
      },
      "execution_count": 151,
      "outputs": [
        {
          "output_type": "stream",
          "name": "stdout",
          "text": [
            "Há 59672 mais homens do que mulheres na base de clientes.\n"
          ]
        }
      ]
    },
    {
      "cell_type": "markdown",
      "source": [
        "## Distribuição de Gênero dos Clientes\n",
        "\n",
        "Ao analisar a distribuição de gênero dos clientes, observamos que há uma diferença de 59.672 a mais de homens do que mulheres na base de clientes. Isso sugere uma maior representação masculina na amostra analisada.\n",
        "\n",
        "Essa informação é importante para entender a composição demográfica da base de clientes e pode influenciar estratégias de marketing e desenvolvimento de produtos voltados para diferentes segmentos de público. Ter um entendimento claro da distribuição de gênero permite à empresa adaptar suas estratégias para atender melhor às necessidades e preferências de seus clientes.\n"
      ],
      "metadata": {
        "id": "BTJrw14nQ2am"
      }
    },
    {
      "cell_type": "markdown",
      "source": [
        "#**3.** Quanto tempo, em média, os clientes permanecem como assinantes ou clientes da empresa (Tenure)?"
      ],
      "metadata": {
        "id": "hoA9wlXVRewn"
      }
    },
    {
      "cell_type": "code",
      "source": [
        "# Calculo da média do tempo de permanência\n",
        "media_tenure = dados_churn['Tenure'].mean()\n",
        "media_tenure_int = int(round(media_tenure))\n",
        "\n",
        "print(f\"Tempo médio de permanência dos clientes: {media_tenure_int} meses\")\n"
      ],
      "metadata": {
        "colab": {
          "base_uri": "https://localhost:8080/"
        },
        "id": "efMJSz_kRrZk",
        "outputId": "cf6721f5-371b-4065-92bf-6e1c050b2ec8"
      },
      "execution_count": 152,
      "outputs": [
        {
          "output_type": "stream",
          "name": "stdout",
          "text": [
            "Tempo médio de permanência dos clientes: 31 meses\n"
          ]
        }
      ]
    },
    {
      "cell_type": "markdown",
      "source": [
        "## Tempo Médio de Permanência dos Clientes\n",
        "\n",
        "Ao analisar o tempo médio de permanência dos clientes, observamos que a média é de aproximadamente 31 meses. Isso significa que, em média, os clientes tendem a permanecer na empresa por cerca de 2 anos e meio antes de cancelarem o serviço ou produto."
      ],
      "metadata": {
        "id": "zk5iRcDoSiiX"
      }
    },
    {
      "cell_type": "markdown",
      "source": [
        "#**4**. Como é a frequência de uso dos serviços ou produtos oferecidos pela empresa?"
      ],
      "metadata": {
        "id": "EqsQ3lyaSt0W"
      }
    },
    {
      "cell_type": "code",
      "source": [
        "# Cálculo da frequência de uso\n",
        "estatisticas_frequencia = dados_churn['Usage Frequency'].describe()\n",
        "print(estatisticas_frequencia)"
      ],
      "metadata": {
        "colab": {
          "base_uri": "https://localhost:8080/"
        },
        "id": "ldMhdQMpS7ny",
        "outputId": "1c6acc30-105d-44e0-b870-6e52c5c7d1a0"
      },
      "execution_count": 136,
      "outputs": [
        {
          "output_type": "stream",
          "name": "stdout",
          "text": [
            "count    440832.000000\n",
            "mean         15.807494\n",
            "std           8.586242\n",
            "min           1.000000\n",
            "25%           9.000000\n",
            "50%          16.000000\n",
            "75%          23.000000\n",
            "max          30.000000\n",
            "Name: Usage Frequency, dtype: float64\n"
          ]
        }
      ]
    },
    {
      "cell_type": "code",
      "source": [
        "# Visualizar a distribuição da frequência de uso\n",
        "plt.figure(figsize=(8, 6))\n",
        "sns.histplot(dados_churn['Usage Frequency'], bins=11, kde=False, color='#0089BA')\n",
        "plt.title('Distribuição da Frequência de Uso dos Serviços/Produtos')\n",
        "plt.xlabel('Frequência de Uso')\n",
        "plt.ylabel('Contagem')\n",
        "plt.show()\n"
      ],
      "metadata": {
        "colab": {
          "base_uri": "https://localhost:8080/",
          "height": 565
        },
        "id": "wgq2obZcS70U",
        "outputId": "a1c0a866-b870-443d-815a-09b696e38f3d"
      },
      "execution_count": 163,
      "outputs": [
        {
          "output_type": "display_data",
          "data": {
            "text/plain": [
              "<Figure size 800x600 with 1 Axes>"
            ],
            "image/png": "[encoded data removed]"
          },
          "metadata": {}
        }
      ]
    },
    {
      "cell_type": "markdown",
      "source": [
        "\n",
        "## Frequência de Uso dos Serviços/Produtos\n",
        "\n",
        "A análise da frequência de uso dos serviços ou produtos oferecidos pela empresa revela os seguintes insights:\n",
        "\n",
        "- A média de frequência de uso é de aproximadamente 15.81 vezes, com um desvio padrão de 8.59. Isso sugere que, embora a média esteja próxima de 16, há uma dispersão significativa em torno desse valor. Isso indica que a frequência de uso não é uniformemente distribuída entre os clientes e pode haver diferenças nos padrões de comportamento.\n",
        "- A distribuição dos dados é assimétrica, com maior densidade nos extremos mais baixos e mais altos da escala de frequência de uso. Em uma distribuição assimétrica, como essa, a média pode ser influenciada por valores extremos ou concentrações em torno de valores específicos.\n",
        "\n"
      ],
      "metadata": {
        "id": "-d2Te6vaTyFM"
      }
    },
    {
      "cell_type": "markdown",
      "source": [
        "#**5.** Quantas chamadas de suporte os clientes fazem em média?"
      ],
      "metadata": {
        "id": "ydobyXj3YQDB"
      }
    },
    {
      "cell_type": "code",
      "source": [
        "media_chamadas_suporte = int(dados_churn['Support Calls'].mean())\n",
        "print(f\"Número médio de chamadas de suporte feitas pelos clientes: {media_chamadas_suporte}\")\n"
      ],
      "metadata": {
        "colab": {
          "base_uri": "https://localhost:8080/"
        },
        "id": "8zkWWk1eYWdP",
        "outputId": "7a16899f-2c25-403f-a54c-daca7545645c"
      },
      "execution_count": 164,
      "outputs": [
        {
          "output_type": "stream",
          "name": "stdout",
          "text": [
            "Número médio de chamadas de suporte feitas pelos clientes: 3\n"
          ]
        }
      ]
    },
    {
      "cell_type": "markdown",
      "source": [
        "## Média de Chamadas de Suporte\n",
        "\n",
        "Ao analisar o número de chamadas de suporte feitas pelos clientes, observamos que em média os clientes realizam aproximadamente 3 chamadas de suporte. Esse valor representa a média de interações dos clientes com o suporte técnico da empresa.\n",
        "\n"
      ],
      "metadata": {
        "id": "vCHUGx5DYvS0"
      }
    },
    {
      "cell_type": "markdown",
      "source": [
        "\n",
        "#**6.** Qual é o método de pagamento mais comum entre os clientes?"
      ],
      "metadata": {
        "id": "CP_JFtO1Y8on"
      }
    },
    {
      "cell_type": "code",
      "source": [
        "metodo_pagamento_comum = dados_churn['Payment Delay'].value_counts().idxmax()\n",
        "print(f\"O método de pagamento mais comum entre os clientes é: {metodo_pagamento_comum}\")\n"
      ],
      "metadata": {
        "colab": {
          "base_uri": "https://localhost:8080/"
        },
        "id": "BDjKnVP0ZA1L",
        "outputId": "a50f1513-14bb-4440-dfbf-eb99d19f74c0"
      },
      "execution_count": 139,
      "outputs": [
        {
          "output_type": "stream",
          "name": "stdout",
          "text": [
            "O método de pagamento mais comum entre os clientes é: 12.0\n"
          ]
        }
      ]
    },
    {
      "cell_type": "markdown",
      "source": [
        "#**7.** Qual é o tipo de assinatura mais comum entre os clientes?"
      ],
      "metadata": {
        "id": "Isiwy4-BZUzq"
      }
    },
    {
      "cell_type": "code",
      "source": [
        "tipo_assinatura_comum = dados_churn['Subscription Type'].value_counts().idxmax()\n",
        "print(f\"O tipo de assinatura mais comum entre os clientes é: {tipo_assinatura_comum}\")\n"
      ],
      "metadata": {
        "colab": {
          "base_uri": "https://localhost:8080/"
        },
        "id": "2Ly1-GuiZbiC",
        "outputId": "9578bf06-479a-42bd-9682-fb9a33d7027b"
      },
      "execution_count": 140,
      "outputs": [
        {
          "output_type": "stream",
          "name": "stdout",
          "text": [
            "O tipo de assinatura mais comum entre os clientes é: Standard\n"
          ]
        }
      ]
    },
    {
      "cell_type": "markdown",
      "source": [
        "#**8.** Qual é o comprimento médio do contrato entre a empresa e os clientes?"
      ],
      "metadata": {
        "id": "DfDRosCiZmx9"
      }
    },
    {
      "cell_type": "code",
      "source": [
        "contagem_contratos = dados_churn['Contract Length'].value_counts()\n",
        "print(\"Contagem de valores da coluna 'Contract Length':\")\n",
        "print(contagem_contratos)"
      ],
      "metadata": {
        "colab": {
          "base_uri": "https://localhost:8080/"
        },
        "id": "Jw6MWZsSZ2Je",
        "outputId": "0f915fc0-c356-4d62-d7f1-b94d46f6f31b"
      },
      "execution_count": 166,
      "outputs": [
        {
          "output_type": "stream",
          "name": "stdout",
          "text": [
            "Contagem de valores da coluna 'Contract Length':\n",
            "Annual       177198\n",
            "Quarterly    176530\n",
            "Monthly       87104\n",
            "Name: Contract Length, dtype: int64\n"
          ]
        }
      ]
    },
    {
      "cell_type": "code",
      "source": [
        "# Atribuindo valores numéricos para cada tipo de contrato\n",
        "valores_contratos = {\"Monthly\": 1, \"Annual\": 12, \"Quarterly\": 3}\n",
        "\n",
        "# Calculando a média ponderada do comprimento do contrato\n",
        "soma_pesos = sum(contagem_contratos[contrato] * valores_contratos[contrato] for contrato in contagem_contratos.index)\n",
        "total_contratos = sum(contagem_contratos)\n",
        "\n",
        "media_contrato = soma_pesos / total_contratos\n",
        "media_arredondada = round(media_contrato)\n",
        "\n",
        "print(f\"A média do comprimento do contrato é de aproximadamente {media_arredondada} meses.\")"
      ],
      "metadata": {
        "colab": {
          "base_uri": "https://localhost:8080/"
        },
        "id": "t0ZrjBPEaNzQ",
        "outputId": "657d852a-a7a2-47ee-c15f-597e06285e47"
      },
      "execution_count": 170,
      "outputs": [
        {
          "output_type": "stream",
          "name": "stdout",
          "text": [
            "A média do comprimento do contrato é de aproximadamente 6 meses.\n"
          ]
        }
      ]
    },
    {
      "cell_type": "markdown",
      "source": [
        "#**9.** Qual é o gasto total médio dos clientes em serviços ou produtos da empresa?"
      ],
      "metadata": {
        "id": "W2TXkiuplc3P"
      }
    },
    {
      "cell_type": "code",
      "source": [
        "media_gasto_total = dados_churn['Total Spend'].mean()\n",
        "print(f'O gasto total médio dos clientes é de aproximadamente ${media_gasto_total:.2f}.')\n"
      ],
      "metadata": {
        "colab": {
          "base_uri": "https://localhost:8080/"
        },
        "id": "JWIz3VT6limT",
        "outputId": "27f2f2bc-24da-4a9c-f7bf-c8770e88ec61"
      },
      "execution_count": 174,
      "outputs": [
        {
          "output_type": "stream",
          "name": "stdout",
          "text": [
            "O gasto total médio dos clientes é de aproximadamente $631.62.\n"
          ]
        }
      ]
    },
    {
      "cell_type": "markdown",
      "source": [
        "#**10.** Qual é a data da última interação registrada entre os clientes e a empresa?\n"
      ],
      "metadata": {
        "id": "ydT4wn1pmPlM"
      }
    },
    {
      "cell_type": "code",
      "source": [
        "ultima_interacao = dados_churn['Last Interaction'].max()\n",
        "print(f'A data da última interação registrada entre os clientes e a empresa é: {ultima_interacao}')\n"
      ],
      "metadata": {
        "colab": {
          "base_uri": "https://localhost:8080/"
        },
        "id": "z_sAJUPmmVou",
        "outputId": "cedd50d4-2e4b-4914-94a9-e3d191ce26be"
      },
      "execution_count": 175,
      "outputs": [
        {
          "output_type": "stream",
          "name": "stdout",
          "text": [
            "A data da última interação registrada entre os clientes e a empresa é: 30.0\n"
          ]
        }
      ]
    },
    {
      "cell_type": "markdown",
      "source": [
        "## Última Interação com a Empresa\n",
        "\n",
        "Ao analisar os dados, identifiquei que a data da última interação registrada entre os clientes e a empresa é representada como \"30.0\". Isso indica que a data mais recente registrada em nosso conjunto de dados é o dia 30 do mês.\n"
      ],
      "metadata": {
        "id": "8Jh8zykAnBHn"
      }
    },
    {
      "cell_type": "markdown",
      "source": [
        "#**11.** Qual é a taxa de churn (cancelamento de serviço) dos clientes?"
      ],
      "metadata": {
        "id": "67GMTv6Xneng"
      }
    },
    {
      "cell_type": "code",
      "source": [
        "churn_count = dados_churn['Churn'].sum()\n",
        "total_clientes = len(dados_churn)\n",
        "\n",
        "# Cálculo da taxa de churn\n",
        "taxa_churn = churn_count / total_clientes\n",
        "\n",
        "print(\"Taxa de churn dos clientes:\", taxa_churn)\n"
      ],
      "metadata": {
        "colab": {
          "base_uri": "https://localhost:8080/"
        },
        "id": "6NfYV_-EoF0M",
        "outputId": "227a19f4-6fec-43ee-8d8f-b32c3faad5af"
      },
      "execution_count": 178,
      "outputs": [
        {
          "output_type": "stream",
          "name": "stdout",
          "text": [
            "Taxa de churn dos clientes: 0.5671071972996515\n"
          ]
        }
      ]
    },
    {
      "cell_type": "markdown",
      "source": [
        "## Taxa de Churn\n",
        "\n",
        "A taxa de churn (cancelamento de serviço) dos clientes é de aproximadamente 0.56. Isso significa que mais da metade dos clientes cancelaram o serviço oferecido pela empresa durante o período da amostra analisada."
      ],
      "metadata": {
        "id": "H1UuuHtDos9n"
      }
    },
    {
      "cell_type": "markdown",
      "source": [
        "#**12.** Há alguma relação entre a idade dos clientes e a probabilidade de churn?"
      ],
      "metadata": {
        "id": "HdArGNOFqQ4F"
      }
    },
    {
      "cell_type": "code",
      "source": [
        "correlation = dados_churn['Age'].corr(dados_churn['Churn'])\n",
        "print(f\"Correlação entre Idade dos Clientes e Churn: {correlation}\")\n"
      ],
      "metadata": {
        "colab": {
          "base_uri": "https://localhost:8080/"
        },
        "id": "dGdOL2g9qjLm",
        "outputId": "d667e898-b001-47d8-85b4-b4cc5f6c4230"
      },
      "execution_count": 191,
      "outputs": [
        {
          "output_type": "stream",
          "name": "stdout",
          "text": [
            "Correlação entre Idade dos Clientes e Churn: 0.218393918577108\n"
          ]
        }
      ]
    },
    {
      "cell_type": "code",
      "source": [
        "# Calculando o coeficiente de correlação de Spearman\n",
        "correlation, p_value = scipy.stats.spearmanr(dados_churn['Age'], dados_churn['Churn'])\n",
        "print(\"Coeficiente de Correlação de Spearman:\", correlation)\n",
        "print(\"Valor-p:\", p_value)\n"
      ],
      "metadata": {
        "colab": {
          "base_uri": "https://localhost:8080/"
        },
        "id": "h279SEJIrDD3",
        "outputId": "dd201290-cd1b-4f21-cd2d-f2f9085eae14"
      },
      "execution_count": 189,
      "outputs": [
        {
          "output_type": "stream",
          "name": "stdout",
          "text": [
            "Coeficiente de Correlação de Spearman: 0.1961588060035336\n",
            "Valor-p: 0.0\n"
          ]
        }
      ]
    },
    {
      "cell_type": "code",
      "source": [
        "#teste qui-quadrado\n",
        "\n",
        "# Criando uma tabela de contingência entre idade e churn\n",
        "contingency_table = pd.crosstab(dados_churn['Age'], dados_churn['Churn'])\n",
        "\n",
        "#teste qui-quadrado\n",
        "chi2, p, dof, expected = chi2_contingency(contingency_table)\n",
        "print(\"Estatística Qui-Quadrado:\", chi2)\n",
        "print(\"Valor-p:\", p)\n"
      ],
      "metadata": {
        "colab": {
          "base_uri": "https://localhost:8080/"
        },
        "id": "necWxmJZrkq3",
        "outputId": "26d323a1-511c-4f85-9e73-989a07ba5158"
      },
      "execution_count": 194,
      "outputs": [
        {
          "output_type": "stream",
          "name": "stdout",
          "text": [
            "Estatística Qui-Quadrado: 83259.17427063093\n",
            "Valor-p: 0.0\n"
          ]
        }
      ]
    },
    {
      "cell_type": "markdown",
      "source": [
        "## Relação entre Idade dos Clientes e Probabilidade de Churn\n",
        "\n",
        "Ao analisar a relação entre a idade dos clientes e a probabilidade de churn, calculei dois indicadores estatísticos importantes: o coeficiente de correlação de Spearman e o teste Qui-Quadrado.\n",
        "\n",
        "O coeficiente de correlação de Spearman resultou em um valor de aproximadamente 0.196, indicando uma correlação positiva fraca entre a idade dos clientes e a probabilidade de churn. No entanto, essa associação é estatisticamente significativa, como evidenciado pelo valor-p próximo a zero.\n",
        "\n",
        "Além disso, realizei o teste Qui-Quadrado, que mostrou uma estatística Qui-Quadrado alta de cerca de 83259 e um valor-p praticamente zero. Isso confirma a existência de uma associação estatisticamente significativa entre a idade dos clientes e o churn.\n",
        "\n",
        "Esses resultados sugerem que a idade dos clientes tem uma influência estatisticamente significativa na probabilidade de churn. No entanto, a correlação é relativamente fraca, o que indica que outros fatores podem estar desempenhando um papel mais forte na determinação do churn dos clientes.\n"
      ],
      "metadata": {
        "id": "uam4q6iUs-NG"
      }
    },
    {
      "cell_type": "markdown",
      "source": [
        "\n",
        "#**13.** Como o gênero dos clientes influencia a taxa de churn?"
      ],
      "metadata": {
        "id": "DdjgvGxQu7mJ"
      }
    },
    {
      "cell_type": "markdown",
      "source": [
        "Hipótese nula (H0): Não há associação entre o gênero dos clientes e a taxa de churn.\n",
        "\n",
        "Hipótese alternativa (H1): Existe uma associação entre o gênero dos clientes e a taxa de churn."
      ],
      "metadata": {
        "id": "cV_n7JiBvM35"
      }
    },
    {
      "cell_type": "code",
      "source": [
        "#Teste de Hipóstese\n",
        "# Criando uma tabela de contingência entre as variáveis Gênero e Churn\n",
        "contingency_table = pd.crosstab(dados_churn['Gender'], dados_churn['Churn'])\n",
        "\n",
        "# Realizando o teste qui-quadrado\n",
        "chi2, p_valor, _, _ = chi2_contingency(contingency_table)\n",
        "\n",
        "print(f\"Valor qui-quadrado: {chi2}\")\n",
        "print(f\"Valor-p: {p_valor}\")\n"
      ],
      "metadata": {
        "colab": {
          "base_uri": "https://localhost:8080/"
        },
        "id": "v4Oyl0fBvNlx",
        "outputId": "5025afee-605b-4699-cda3-b854ba23284a"
      },
      "execution_count": 197,
      "outputs": [
        {
          "output_type": "stream",
          "name": "stdout",
          "text": [
            "Valor qui-quadrado: 13560.734707741449\n",
            "Valor-p: 0.0\n"
          ]
        }
      ]
    },
    {
      "cell_type": "markdown",
      "source": [
        "**Resultado do Teste de Hipótese:**\n",
        "\n",
        "Com base no resultado do teste qui-quadrado, que revelou um valor-p muito próximo de zero, podemos rejeitar a hipótese nula de que não há relação entre o gênero dos clientes e a taxa de churn. Isso indica que há uma associação estatisticamente significativa entre o gênero dos clientes e a probabilidade de cancelamento do serviço.\n",
        "\n",
        "No entanto, é importante ressaltar que o teste qui-quadrado apenas confirma a presença de uma associação, mas não fornece informações sobre a direção ou a magnitude dessa associação. Portanto, análises adicionais são necessárias para entender melhor a natureza dessa relação. Isso pode incluir a comparação das taxas de churn entre diferentes grupos de gênero, análises de regressão para avaliar o impacto do gênero no churn controlando outras variáveis, e investigações qualitativas para identificar possíveis razões por trás das diferenças na taxa de churn entre homens e mulheres. Essas análises mais detalhadas podem fornecer insights valiosos para orientar estratégias de retenção de clientes e melhorar a experiência do cliente.\n"
      ],
      "metadata": {
        "id": "UaRay3_mwUdj"
      }
    },
    {
      "cell_type": "markdown",
      "source": [
        "#**14.** Existem diferenças na taxa de churn entre os diferentes tipos de assinatura?"
      ],
      "metadata": {
        "id": "PpO8S1yFw3mU"
      }
    },
    {
      "cell_type": "code",
      "source": [
        "import pandas as pd\n",
        "\n",
        "# Calcular a taxa de churn para cada tipo de assinatura\n",
        "churn_rate = dados_churn.groupby('Subscription Type')['Churn'].mean()\n",
        "\n",
        "# Exibir os resultados\n",
        "print(\"Taxa de Churn por Tipo de Assinatura:\")\n",
        "print(churn_rate)\n"
      ],
      "metadata": {
        "colab": {
          "base_uri": "https://localhost:8080/"
        },
        "id": "GJeaR6o2yw_8",
        "outputId": "753661e4-8ba4-4b6c-bbbc-7ec685a67185"
      },
      "execution_count": 202,
      "outputs": [
        {
          "output_type": "stream",
          "name": "stdout",
          "text": [
            "Taxa de Churn por Tipo de Assinatura:\n",
            "Subscription Type\n",
            "Basic       0.581782\n",
            "Premium     0.559417\n",
            "Standard    0.560700\n",
            "Name: Churn, dtype: float64\n"
          ]
        }
      ]
    },
    {
      "cell_type": "markdown",
      "source": [
        "## Taxa de Churn por Tipo de Assinatura\n",
        "\n",
        "Ao analisar a taxa de churn por tipo de assinatura, notei que as diferenças entre elas são sutis. Embora existam variações entre as taxas de churn de cada tipo de assinatura, todas elas estão em uma faixa próxima. Isso sugere que as estratégias de retenção de clientes devem ser aplicadas de maneira equitativa em todos os tipos de assinatura para garantir a fidelidade do cliente.\n",
        "\n",
        "\n",
        "\n"
      ],
      "metadata": {
        "id": "Zu1yEnba0Vms"
      }
    },
    {
      "cell_type": "code",
      "source": [],
      "metadata": {
        "id": "GHNP_zvp0fRX"
      },
      "execution_count": null,
      "outputs": []
    }
  ]
}